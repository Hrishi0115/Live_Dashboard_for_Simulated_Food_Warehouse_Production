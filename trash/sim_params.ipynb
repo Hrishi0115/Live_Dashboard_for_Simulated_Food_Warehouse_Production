{
 "cells": [
  {
   "cell_type": "code",
   "execution_count": 2,
   "metadata": {},
   "outputs": [
    {
     "data": {
      "text/plain": [
       "[2, 2, 2, 3, 3, 3]"
      ]
     },
     "execution_count": 2,
     "metadata": {},
     "output_type": "execute_result"
    }
   ],
   "source": [
    "# define package characteristics (diameter in mm, shape) - i.e. the characteristics of the packages moving past the sensors\n",
    "\n",
    "packages = [\n",
    "    {'diameter': 80, 'shape': 'circular'},\n",
    "    {'diameter': 120, 'shape': 'square'},\n",
    "    {'diameter': 300, 'shape': 'rectangular'}\n",
    "]\n",
    "\n",
    "# initial list that defines different types of packages that the conveyor will carry\n",
    "\n",
    "# define sensor characteristics - the operational parameters of the sensors themselves\n",
    "\n",
    "sensor_rate = 100 # Sensor checks per minute - the rate at which the sensors are checking or scanning for packages.\n",
    "# 100 checks per minute, i.e. every 0.6 seconds, the sensor will 'look' for a package\n",
    "# In the context of an IR sensor (the proposed sensor type for this project) - each 'check' would be the system registering a state change (is beam broken)\n",
    "# from the sensor.\n",
    "\n",
    "simulation_time_in_minutes = 10 # Simulate for 10 minutes\n",
    "\n",
    "# simulation_time_in_seconds = simulation_time_in_minutes * 60\n",
    "\n",
    "# Calculate intervals at which packages pass the sensor\n",
    "\n",
    "import random\n",
    "\n",
    "# Assuming packages pass at random intervals between 1 to 3 seconds\n",
    "\n",
    "pass_intervals = [random.randint(1,3) for _ in range(int(simulation_time * 60 / sensor_rate))]\n",
    "\n",
    "# used to simulate the random timing which packages pass the sensor.  \n",
    "\n",
    "# pass_intervals\n",
    "\n",
    "# i.e. pass_intervals = [2,2,2,3,3,3] means the first package is detected, and then 2 seconds later, the next package pas"
   ]
  },
  {
   "cell_type": "code",
   "execution_count": 16,
   "metadata": {},
   "outputs": [
    {
     "name": "stdout",
     "output_type": "stream",
     "text": [
      "Number of packages: 304\n",
      "Sample intervals: [3, 1, 2, 2, 1, 1, 1, 1, 3, 3]\n"
     ]
    }
   ],
   "source": [
    "import random\n",
    "\n",
    "simulation_time = 10  # minutes\n",
    "total_simulation_seconds = simulation_time * 60  # Convert minutes to seconds\n",
    "\n",
    "pass_intervals = []\n",
    "current_time = 0\n",
    "\n",
    "while current_time < total_simulation_seconds:\n",
    "    next_interval = random.randint(1, 3)\n",
    "    if current_time + next_interval > total_simulation_seconds:\n",
    "        break\n",
    "    pass_intervals.append(next_interval)\n",
    "    current_time += next_interval\n",
    "\n",
    "print(f\"Number of packages: {len(pass_intervals)}\")\n",
    "print(f\"Sample intervals: {pass_intervals[:10]}\")  # Print the first 10 entries to verify\n"
   ]
  },
  {
   "cell_type": "code",
   "execution_count": 18,
   "metadata": {},
   "outputs": [
    {
     "name": "stdout",
     "output_type": "stream",
     "text": [
      "Total Simulation Time: 600 seconds\n",
      "Sample Sensor Data: [(3, 'Package Detected'), (4, 'Package Detected'), (6, 'Package Detected'), (8, 'Package Detected'), (9, 'Package Detected'), (10, 'Package Detected'), (11, 'Package Detected'), (12, 'Package Detected'), (15, 'Package Detected'), (18, 'Package Detected')]\n"
     ]
    }
   ],
   "source": [
    "# Initialise the simulation environment\n",
    "total_simulation_seconds = sum(pass_intervals)  # Total seconds covered by the generated intervals\n",
    "sensor_data = []\n",
    "current_time = 0\n",
    "\n",
    "for interval in pass_intervals:\n",
    "    current_time += interval  # Update the time at which the next package passes\n",
    "    sensor_data.append((current_time, 'Package Detected'))\n",
    "\n",
    "# Display sample sensor data\n",
    "print(f\"Total Simulation Time: {total_simulation_seconds} seconds\")\n",
    "print(\"Sample Sensor Data:\", sensor_data[:10])\n"
   ]
  },
  {
   "cell_type": "code",
   "execution_count": 19,
   "metadata": {},
   "outputs": [
    {
     "name": "stdout",
     "output_type": "stream",
     "text": [
      "Sample Logged Data: ['Time: 3, Event: Package Detected', 'Time: 4, Event: Package Detected', 'Time: 6, Event: Package Detected', 'Time: 8, Event: Package Detected', 'Time: 9, Event: Package Detected', 'Time: 10, Event: Package Detected', 'Time: 11, Event: Package Detected', 'Time: 12, Event: Package Detected', 'Time: 15, Event: Package Detected', 'Time: 18, Event: Package Detected']\n"
     ]
    }
   ],
   "source": [
    "# Assuming data is logged directly in a simple list\n",
    "logged_data = []\n",
    "for time, event in sensor_data:\n",
    "    logged_data.append(f\"Time: {time}, Event: {event}\")\n",
    "\n",
    "# Optionally, save this to a file or handle it as needed for further processing\n",
    "print(\"Sample Logged Data:\", logged_data[:10])\n"
   ]
  },
  {
   "cell_type": "code",
   "execution_count": 20,
   "metadata": {},
   "outputs": [
    {
     "name": "stdout",
     "output_type": "stream",
     "text": [
      "Display Data Sample: {3: 'Count: 1', 4: 'Count: 1', 6: 'Count: 1', 8: 'Count: 1', 9: 'Count: 1', 10: 'Count: 1', 11: 'Count: 1', 12: 'Count: 1', 15: 'Count: 1', 18: 'Count: 1'}\n"
     ]
    }
   ],
   "source": [
    "from collections import Counter\n",
    "\n",
    "# Count occurrences at each time stamp\n",
    "event_counts = Counter([time for time, event in sensor_data])\n",
    "\n",
    "# Prepare a summary for display\n",
    "display_data = {time: f\"Count: {count}\" for time, count in event_counts.items()}\n",
    "print(\"Display Data Sample:\", dict(list(display_data.items())[:10]))\n"
   ]
  }
 ],
 "metadata": {
  "kernelspec": {
   "display_name": "c_tech_sim",
   "language": "python",
   "name": "python3"
  },
  "language_info": {
   "codemirror_mode": {
    "name": "ipython",
    "version": 3
   },
   "file_extension": ".py",
   "mimetype": "text/x-python",
   "name": "python",
   "nbconvert_exporter": "python",
   "pygments_lexer": "ipython3",
   "version": "3.11.9"
  }
 },
 "nbformat": 4,
 "nbformat_minor": 2
}
